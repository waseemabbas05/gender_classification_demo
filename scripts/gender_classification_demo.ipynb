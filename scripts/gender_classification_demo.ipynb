{
 "cells": [
  {
   "cell_type": "markdown",
   "metadata": {
    "colab_type": "text",
    "id": "Xxaefcvfq9XF"
   },
   "source": [
    "## Importing libraries"
   ]
  },
  {
   "cell_type": "code",
   "execution_count": 0,
   "metadata": {
    "colab": {},
    "colab_type": "code",
    "id": "7MIBt2QDq6wm"
   },
   "outputs": [],
   "source": [
    "import os\n",
    "import tensorflow as tf\n",
    "\n",
    "import shutil\n",
    "\n",
    "import read_data as rd\n",
    "import matplotlib.pyplot as plt\n",
    "from model import gender_classifier,wce_loss\n",
    "\n",
    "tf.reset_default_graph()"
   ]
  },
  {
   "cell_type": "markdown",
   "metadata": {
    "colab_type": "text",
    "id": "YzctN14nq5-u"
   },
   "source": [
    "## Setting up directories and downloading the data"
   ]
  },
  {
   "cell_type": "code",
   "execution_count": 0,
   "metadata": {
    "colab": {},
    "colab_type": "code",
    "id": "32P2IuO2qtIa"
   },
   "outputs": [],
   "source": [
    "\"\"\" First downlaod the images and associated labels\"\"\"\n",
    "dataset_path = 'data'\n",
    "if os.path.exists(dataset_path):\n",
    "    found = 1\n",
    "else:\n",
    "    os.mkdir(os.path.join(os.getcwd(),dataset_path))\n",
    "    \n",
    "model_dir = '/kernel_log'\n",
    "if os.path.exists(model_dir):\n",
    "    found = 1\n",
    "else:\n",
    "    os.mkdir(os.path.join(os.getcwd(),model_dir))\n",
    "\n",
    "rd.download_extract(dataset_path)\n",
    "dataset = rd.Dataset(dataset_path)"
   ]
  },
  {
   "cell_type": "markdown",
   "metadata": {
    "colab_type": "text",
    "id": "QhP2pDJfrkJB"
   },
   "source": [
    "## Building computational graph for classifier, cost function and performance metrics (accuracy)"
   ]
  },
  {
   "cell_type": "code",
   "execution_count": 0,
   "metadata": {
    "colab": {},
    "colab_type": "code",
    "id": "n7YvTYByqw_Q"
   },
   "outputs": [],
   "source": [
    "px= tf.placeholder(tf.float32, [None,28,28,3]) ## a placeholder for images\n",
    "py= tf.placeholder(tf.float32, [None,2])  ## a placeholder for binary labels\n",
    "ptr = tf.placeholder(tf.bool,shape=None) ## placeholder for a boolean which tells the graph if we are training or inferring labels for new data\n",
    "\n",
    "## inference graph\n",
    "pr = gender_classifier(px,ptr)\n",
    "\n",
    "## cost function\n",
    "cost = wce_loss(py,pr)\n",
    "\n",
    "## optimizer\n",
    "update_ops = tf.get_collection(tf.GraphKeys.UPDATE_OPS)\n",
    "with tf.control_dependencies(update_ops):\n",
    "    optimizer = tf.train.AdamOptimizer(learning_rate=0.01).minimize(cost)\n",
    "\n",
    "## Getting class number from inference    \n",
    "prediction = tf.argmax(pr, 1)\n",
    "\n",
    "## performance metrics (accuracy)\n",
    "correct_answer = tf.argmax(py, 1)\n",
    "equality = tf.equal(correct_answer,prediction)\n",
    "accuracy = tf.reduce_mean(tf.cast(equality, tf.float32))"
   ]
  },
  {
   "cell_type": "markdown",
   "metadata": {
    "colab_type": "text",
    "id": "A2j4APGMruR_"
   },
   "source": [
    "## Training the classifier"
   ]
  },
  {
   "cell_type": "code",
   "execution_count": 0,
   "metadata": {
    "colab": {},
    "colab_type": "code",
    "id": "HVxX-BV2q1RK"
   },
   "outputs": [],
   "source": [
    "batch_size = 32 ## batch size while training\n",
    "num_train_batches = int(np.floor(dataset.X_train.shape[0]/batch_size)) ## number of batches in training data\n",
    "\n",
    "## training session\n",
    "with tf.Session() as sess:\n",
    "    sess.run(tf.global_variables_initializer()) ## initialize graph\n",
    "\n",
    "    for epochn in range(1): ## change the number of epochs for more training\n",
    "        for batchn in range(num_train_batches): #iterate through all batches\n",
    "            ## beginning and end idices of a batch\n",
    "            in1 = batchn*batch_size\n",
    "            in2 = in1 + batch_size\n",
    "\n",
    "            ## get the training batch\n",
    "            xb_train,yb_train = get_batch(dataset.X_train,dataset.Y_train,in1,in2,batch_size)\n",
    "\n",
    "            ## infer labels and calculate loss for current training batch\n",
    "            pred = sess.run(pr,feed_dict = {px : xb_train,ptr:True})\n",
    "            batch_loss = sess.run(cost,feed_dict={py:yb_train,pr:pred})\n",
    "\n",
    "            ## Check how the model performs on validation data after every 100th batch\n",
    "            if (batchn%100)==0:\n",
    "                nval = dataset.X_validate.shape[0]\n",
    "                nbval = np.floor(nval/500)\n",
    "                in1 = int((nbval-2)*500)\n",
    "                in2 = in1 + 500\n",
    "                xb_val,yb_val = get_batch(dataset.X_validate,dataset.Y_validate,in1,in2,500)\n",
    "                pred = sess.run(pr,feed_dict = {px : xb_val,ptr:False})\n",
    "                acc = sess.run(accuracy,feed_dict={py:yb_val,pr:pred})\n",
    "                print('loss:'+str(batch_loss)+', accuracy: '+str(acc))"
   ]
  },
  {
   "cell_type": "markdown",
   "metadata": {
    "colab_type": "text",
    "id": "vyXv44-Fryi-"
   },
   "source": [
    "## Getting predictions for unseen data"
   ]
  },
  {
   "cell_type": "code",
   "execution_count": 0,
   "metadata": {
    "colab": {},
    "colab_type": "code",
    "id": "5Z-woVzgq3no"
   },
   "outputs": [],
   "source": [
    "## Get a random batch from the data. This can be replaced by data batch of your own \n",
    "data_batch, indices = dataset.get_image_batch(16) \n",
    "\n",
    "# Infer the classes for each image in the batch\n",
    "gender_class = sess.run(prediction,feed_dict={px:data_batch,ptr:False})"
   ]
  }
 ],
 "metadata": {
  "colab": {
   "name": "gender_classification_demo.ipynb",
   "provenance": []
  },
  "kernelspec": {
   "display_name": "Python 3",
   "language": "python",
   "name": "python3"
  },
  "language_info": {
   "codemirror_mode": {
    "name": "ipython",
    "version": 3
   },
   "file_extension": ".py",
   "mimetype": "text/x-python",
   "name": "python",
   "nbconvert_exporter": "python",
   "pygments_lexer": "ipython3",
   "version": "3.6.8"
  },
  "varInspector": {
   "cols": {
    "lenName": 16,
    "lenType": 16,
    "lenVar": 40
   },
   "kernels_config": {
    "python": {
     "delete_cmd_postfix": "",
     "delete_cmd_prefix": "del ",
     "library": "var_list.py",
     "varRefreshCmd": "print(var_dic_list())"
    },
    "r": {
     "delete_cmd_postfix": ") ",
     "delete_cmd_prefix": "rm(",
     "library": "var_list.r",
     "varRefreshCmd": "cat(var_dic_list()) "
    }
   },
   "types_to_exclude": [
    "module",
    "function",
    "builtin_function_or_method",
    "instance",
    "_Feature"
   ],
   "window_display": false
  }
 },
 "nbformat": 4,
 "nbformat_minor": 1
}
